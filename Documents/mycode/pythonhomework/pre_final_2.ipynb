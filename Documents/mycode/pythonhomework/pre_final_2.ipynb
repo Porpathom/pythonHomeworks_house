{
 "cells": [
  {
   "cell_type": "markdown",
   "metadata": {},
   "source": [
    "# แบบฝึกหัดที่ 2 ก่อนสอบปลายภาค"
   ]
  },
  {
   "cell_type": "markdown",
   "metadata": {},
   "source": [
    "### เรื่อง ทบทวนเนื้อหาการเขียนโปรแกรมด้วยภาษาไพทอนเบื้องต้น"
   ]
  },
  {
   "cell_type": "markdown",
   "metadata": {},
   "source": [
    "ชื่อ นายปฐม กล่อมปัญญา รหัสนักศึกษา 6512732104"
   ]
  },
  {
   "cell_type": "markdown",
   "metadata": {},
   "source": [
    "### Functions"
   ]
  },
  {
   "cell_type": "markdown",
   "metadata": {},
   "source": [
    "**แบบฝึกหัดที่ 1** : สร้างฟังก์ชันที่ทำหน้ารับชุดข้องข้อความเข้ามาพร้อมทั้ง ทั้งแสดงข้อความนั้น และบอกจำนวนอักขระที่อยู่ใข้อความนั้นออกมาทางหน้าจอ"
   ]
  },
  {
   "cell_type": "raw",
   "metadata": {},
   "source": [
    "# ข้อความ \n",
    "f = 'The Shawshank Redemption'\n",
    "g = 'The Godfather'\n",
    "h = 'The Godfather: Part II'\n",
    "i = 'The Dark Knight'\n",
    "j = \"Schindler's List\""
   ]
  },
  {
   "cell_type": "code",
   "execution_count": 1,
   "metadata": {},
   "outputs": [
    {
     "name": "stdout",
     "output_type": "stream",
     "text": [
      "The Shawshank Redemption  24\n",
      "The Godfather  13\n",
      "The Godfather: Part II  22\n",
      "The Dark Knight  15\n",
      "Schindler's List  16\n"
     ]
    }
   ],
   "source": [
    "# คำตอบ\n",
    "def movie (a):\n",
    "    print(f\"{a}  {len(a)}\")\n",
    "\n",
    "f = 'The Shawshank Redemption'\n",
    "g = 'The Godfather'\n",
    "h = 'The Godfather: Part II'\n",
    "i = 'The Dark Knight'\n",
    "j = \"Schindler's List\"\n",
    "\n",
    "for x in f,g,h,i,j:\n",
    "    movie(x)"
   ]
  },
  {
   "cell_type": "markdown",
   "metadata": {},
   "source": [
    "**ข้อที่ 2** สร้างฟังก์ชันเพื่อนับจำนวนตัวลีเมอร์ ที่พบเห็นอยู่ภายใน List ว่าจะแต่ละสายพันธ์มีจำนวนเท่าใด"
   ]
  },
  {
   "cell_type": "code",
   "execution_count": 2,
   "metadata": {},
   "outputs": [],
   "source": [
    "lemurs = ['White-headed lemur', 'Gray-headed lemur', \n",
    "          'Common brown lemur', 'Collared brown lemur', \n",
    "          'Red lemur', 'Collared brown lemur', 'Red-fronted lemur', \n",
    "          'Red-bellied lemur', 'Collared brown lemur', 'Crowned lemur', \n",
    "          'Red lemur', 'Crowned lemur', 'Blue-eyed black lemur', \n",
    "          'Common brown lemur', 'Mongoose lemur', 'Common brown lemur', \n",
    "          \"Sanford's brown lemur\", 'White-headed lemur', 'Black lemur', \n",
    "          'Mongoose lemur', 'Red-bellied lemur', 'Red-fronted lemur', \n",
    "          'Blue-eyed black lemur', 'Collared brown lemur', \n",
    "          'Blue-eyed black lemur', 'White-headed lemur', 'Red lemur', \n",
    "          'Red-bellied lemur', 'Gray-headed lemur', 'Red-bellied lemur', \n",
    "          'Red lemur', 'Common brown lemur', 'Mongoose lemur', 'Red lemur', \n",
    "          'Common brown lemur', \"Sanford's brown lemur\"]"
   ]
  },
  {
   "cell_type": "code",
   "execution_count": 12,
   "metadata": {},
   "outputs": [
    {
     "name": "stdout",
     "output_type": "stream",
     "text": [
      "{'White-headed lemur': 3, 'Gray-headed lemur': 2, 'Common brown lemur': 5, 'Collared brown lemur': 4, 'Red lemur': 5, 'Red-fronted lemur': 2, 'Red-bellied lemur': 4, 'Crowned lemur': 2, 'Blue-eyed black lemur': 3, 'Mongoose lemur': 3, \"Sanford's brown lemur\": 2, 'Black lemur': 1}\n"
     ]
    }
   ],
   "source": [
    "# คำตอบ\n",
    "# คำใบ้ ใช้ Dictionnary\n",
    "\n",
    "def numLemurs(name):\n",
    "    species_list = []\n",
    "    species_dict = {}\n",
    "\n",
    "    for i in name:\n",
    "        if i not in species_list:\n",
    "            species_list.append(i)\n",
    "    \n",
    "    for i in species_list:\n",
    "        species_dict[i] = 0\n",
    "\n",
    "    for i in name:\n",
    "        if i in species_list:\n",
    "            species_dict[i] += 1\n",
    "    return species_dict\n",
    "\n",
    "\n",
    "\n",
    "lemurs = ['White-headed lemur', 'Gray-headed lemur', \n",
    "          'Common brown lemur', 'Collared brown lemur', \n",
    "          'Red lemur', 'Collared brown lemur', 'Red-fronted lemur', \n",
    "          'Red-bellied lemur', 'Collared brown lemur', 'Crowned lemur', \n",
    "          'Red lemur', 'Crowned lemur', 'Blue-eyed black lemur', \n",
    "          'Common brown lemur', 'Mongoose lemur', 'Common brown lemur', \n",
    "          \"Sanford's brown lemur\", 'White-headed lemur', 'Black lemur', \n",
    "          'Mongoose lemur', 'Red-bellied lemur', 'Red-fronted lemur', \n",
    "          'Blue-eyed black lemur', 'Collared brown lemur', \n",
    "          'Blue-eyed black lemur', 'White-headed lemur', 'Red lemur', \n",
    "          'Red-bellied lemur', 'Gray-headed lemur', 'Red-bellied lemur', \n",
    "          'Red lemur', 'Common brown lemur', 'Mongoose lemur', 'Red lemur', \n",
    "          'Common brown lemur', \"Sanford's brown lemur\"]\n",
    "\n",
    "print(numLemurs(lemurs))\n"
   ]
  },
  {
   "cell_type": "markdown",
   "metadata": {},
   "source": [
    "<hr>"
   ]
  },
  {
   "cell_type": "markdown",
   "metadata": {},
   "source": [
    "**ข้อที่ 3** เขียนฟังก์ชันเพื่อแยกชื่อ และนามสกุลออกจากัน พร้อมแสดงทางหน้าจอ"
   ]
  },
  {
   "cell_type": "code",
   "execution_count": 3,
   "metadata": {},
   "outputs": [],
   "source": [
    "full_names = ['Harry Potter', \n",
    "              'Hermione Granger', \n",
    "              'Ronald Weasley']"
   ]
  },
  {
   "cell_type": "code",
   "execution_count": 11,
   "metadata": {},
   "outputs": [
    {
     "name": "stdout",
     "output_type": "stream",
     "text": [
      "Firstname: Harry\n",
      "Lastname: Potter\n",
      "Firstname: Hermione\n",
      "Lastname: Granger\n",
      "Firstname: Ronald\n",
      "Lastname: Weasley\n"
     ]
    }
   ],
   "source": [
    "# คำตอบ\n",
    "\n",
    "def spName(name):\n",
    "    new_name = [x.split(\" \") for x in name]\n",
    "    for i in range(len(new_name)):\n",
    "        print( f\"Firstname: {new_name[i][0]}\\nLastname: {new_name[i][1]}\")\n",
    "        \n",
    "\n",
    "\n",
    "full_names = ['Harry Potter', \n",
    "              'Hermione Granger', \n",
    "              'Ronald Weasley']\n",
    "\n",
    "spName(full_names)"
   ]
  },
  {
   "cell_type": "markdown",
   "metadata": {},
   "source": [
    "<hr>"
   ]
  },
  {
   "cell_type": "markdown",
   "metadata": {},
   "source": [
    "**ข้อที่ 4** จงเขียน Function เพื่อนับจำนวน AT ที่อยู่ในสานอักขระ dna_seq"
   ]
  },
  {
   "cell_type": "code",
   "execution_count": 5,
   "metadata": {},
   "outputs": [],
   "source": [
    "dna_seq = 'ACGCGCAGATAGGACGCAGGGAGGGAGGAGGTTTTAGAAGAGGATAGACCCA'"
   ]
  },
  {
   "cell_type": "code",
   "execution_count": 2,
   "metadata": {},
   "outputs": [
    {
     "name": "stdout",
     "output_type": "stream",
     "text": [
      "23\n"
     ]
    }
   ],
   "source": [
    "# คำตอบ\n",
    "\n",
    "def checkAT(dna):\n",
    "    count = 0\n",
    "    for i in dna:\n",
    "        if i == \"A\" or i == \"T\":\n",
    "            count += 1\n",
    "    print(count)\n",
    "\n",
    "dna_seq = 'ACGCGCAGATAGGACGCAGGGAGGGAGGAGGTTTTAGAAGAGGATAGACCCA'\n",
    "\n",
    "checkAT(dna_seq)"
   ]
  },
  {
   "cell_type": "markdown",
   "metadata": {},
   "source": [
    "<hr>"
   ]
  },
  {
   "cell_type": "code",
   "execution_count": null,
   "metadata": {},
   "outputs": [],
   "source": []
  }
 ],
 "metadata": {
  "kernelspec": {
   "display_name": "Python 3",
   "language": "python",
   "name": "python3"
  },
  "language_info": {
   "codemirror_mode": {
    "name": "ipython",
    "version": 3
   },
   "file_extension": ".py",
   "mimetype": "text/x-python",
   "name": "python",
   "nbconvert_exporter": "python",
   "pygments_lexer": "ipython3",
   "version": "3.7.4"
  }
 },
 "nbformat": 4,
 "nbformat_minor": 5
}
