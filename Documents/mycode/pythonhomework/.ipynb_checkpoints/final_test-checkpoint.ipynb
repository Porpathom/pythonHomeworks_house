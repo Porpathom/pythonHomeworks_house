{
 "cells": [
  {
   "cell_type": "markdown",
   "metadata": {},
   "source": [
    "# ข้อสอบปลายภาค"
   ]
  },
  {
   "cell_type": "markdown",
   "metadata": {},
   "source": [
    "### รายวิชา การเขียนโปรแกรมเชิงวัตถุ ปีการ 2/2565"
   ]
  },
  {
   "cell_type": "markdown",
   "metadata": {},
   "source": [
    "ชื่อ........... นามสกุล............. รหัสนักศึกษา"
   ]
  },
  {
   "cell_type": "markdown",
   "metadata": {},
   "source": [
    "**ข้อสอบข้อที่ 1** : จงเขียนโปรแกรม เพื่อคํานวณ หาภาษีมูลค่าเพิ่มของบริการ โดยให้มีการทำงานดังนี้ คือ รับราคาบริการ จากนั้นคำนวณหาค่าบริการที่รวมภาษีมูลค่าเพิ่มแล้ว และทำการแสดงผลดังตัวอย่าง"
   ]
  },
  {
   "cell_type": "raw",
   "metadata": {},
   "source": [
    "# ตัวอย่างการทำงาน 1\n",
    "\n",
    "Enter Service Price : 1000\n",
    "\n",
    "Service Price\n",
    "Price : 1000\n",
    "Vat : 70\n",
    "Total Price : 1070\n",
    " \n",
    "Thank you.\n",
    "\n",
    "# ตัวอย่างการทำงาน 2\n",
    "\n",
    "Enter Service Price : 500\n",
    "\n",
    "Service Price\n",
    "Price : 500\n",
    "Vat : 35\n",
    "Total Price : 535\n",
    " \n",
    "\n",
    "Thank you."
   ]
  },
  {
   "cell_type": "markdown",
   "metadata": {},
   "source": [
    "ข้อมูลเพิ่มเติม\n",
    "\n",
    "1) สามารถหาภาษีมูลค่าเพิ่ม (Vat) ได้จากสูตร ราคาสินค้า * ( 7  / 100 )\n",
    "2) ราคารวมภาษีมูลค่าเพิ่ม หาได้จากสูตร ราคาสินค้า + Vat ที่หาได้"
   ]
  },
  {
   "cell_type": "code",
   "execution_count": null,
   "metadata": {},
   "outputs": [],
   "source": [
    "# คำตอบ\n",
    "\n",
    "\n"
   ]
  },
  {
   "cell_type": "markdown",
   "metadata": {},
   "source": [
    "<hr>"
   ]
  },
  {
   "cell_type": "markdown",
   "metadata": {},
   "source": [
    "**ข้อสอบข้อที่ 2** โปรแกรมตัดเกรด\n",
    "\n",
    "จงออกแบบโปรแกรมด้วยภาษา C++ โดยให้มีการทำงานดังต่อไปนี้\n",
    "1) โปรแกรมสามารถ รับข้อมูลคะแนนของนักเรียนที่มีค่าระหว่าง 0 - 100 จำนวน 5 คน\n",
    "2) ทำการ หาเกรด จากเกณฑ์คะแนนต่อไปนี้ <br>\n",
    "    90 - 100 ได้เกรด A <br>\n",
    "    80 - 89 ได้เกรด B <br>\n",
    "    70 - 79 ได้เกรด C <br>\n",
    "    50 - 69 ได้เกรด D<br>\n",
    "    0 - 49 ได้เกรด E<br>\n",
    "3) แสดงผลข้อมูลตามรูปแบบตัวอย่าง"
   ]
  },
  {
   "cell_type": "raw",
   "metadata": {},
   "source": [
    "ตัวอย่างหน้าการแสดงผลของโปรแกรม\n",
    "\n",
    "Calculate Grade Program\n",
    "Enter Score Student 1 : 91\n",
    "Enter Score Student 2 : 81\n",
    "Enter Score Student 3 : 71\n",
    "Enter Score Student 4 : 61\n",
    "Enter Score Student 5 : 41\n",
    "\n",
    "Show Student Grade\n",
    "Student 1 \n",
    "     Score 91 Grade A\n",
    "Student 2 \n",
    "     Score 81 Grade B\n",
    "Student 3 \n",
    "     Score 71 Grade C\n",
    "Student 4 \n",
    "     Score 61 Grade D\n",
    "Student 5 \n",
    "     Score 41 Grade F\n",
    "\n",
    "Thank You...\n",
    "\n",
    "หมายเหตุ : ตัวหนังสือ สีเขียว คือ Input ตัวหนังสือ สีน้ำตาล คือ คำค่าในตัวแปร Output มาแสดง "
   ]
  },
  {
   "cell_type": "code",
   "execution_count": null,
   "metadata": {},
   "outputs": [],
   "source": [
    "# คำตอบ\n",
    "for i in range (1,6):\n",
    "    s = int(input(f\"Enter your score {i} \"))\n",
    "    if s <= 100 and s>=80:\n",
    "        print(\"Grend A\")\n",
    "    elif s <= 80 and s>=70:\n",
    "        print(\"Grend B\")\n",
    "    elif s <= 70 and s>=60:\n",
    "        print(\"Grend C\")\n",
    "    elif s <= 60 and s>=50:\n",
    "        print(\"Grend D\")\n",
    "    else :\n",
    "        print(\"Grand E\")\n",
    "\n"
   ]
  },
  {
   "cell_type": "markdown",
   "metadata": {},
   "source": [
    "**ข้อสอบข้อที่ 3** โปรแกรมคำนวนค่าเรียนพิเศษ\n",
    "\n",
    "จงเขียนโปรแกรมคำนวณค่าเรียนพิเศษของ ติวเตอร์คณิตศาสตร์ แห่งหนึ่ง โดย ติวเตอร์แห่งนี้ คิดค่าเรียนเป็นรายชั่วโมง \n",
    "\n",
    "ชั่วโมงละ 450 บาท และจ่ายเป็นแบบครั้งต่อครั้ง \n",
    "\n",
    "โดยให้โปรแกรมมีการรับค่าจำนวนช่วงโมงที่สอน และมีรูปแบบการทำงานและแสดงผลตามตัวอย่างต่อไปนี้"
   ]
  },
  {
   "cell_type": "raw",
   "metadata": {},
   "source": [
    "ตัวอย่างการทำงาน ครั้งที่ 1\n",
    "\n",
    "RUN : ทดสอบด้วยการป้อนจำนวนชั่วโมงที่เรียนเป็น 5 ชั่วโมง\n",
    "\n",
    "Enter Hour : 5\n",
    "Total : 2250\n",
    "\n",
    "ตัวอย่างการทำงาน ครั้งที่ 2\n",
    "\n",
    "RUN : ทดสอบด้วยการป้อนจำนวนชั่วโมงที่เรียนเป็น 1 ชั่วโมง\n",
    "\n",
    "Enter Hour : 1\n",
    "Total : 450"
   ]
  },
  {
   "cell_type": "code",
   "execution_count": 4,
   "metadata": {},
   "outputs": [],
   "source": [
    "# คำตอบ\n",
    "\n"
   ]
  },
  {
   "cell_type": "markdown",
   "metadata": {},
   "source": [
    "<hr>"
   ]
  },
  {
   "cell_type": "markdown",
   "metadata": {},
   "source": [
    "**ข้อให้ทุกคนโชคดีในการสอบ**<br>\n",
    "ผู้ช่วยศาสตราจารย์พิศาล สุขขี<br>\n",
    "สาขาวิทยาการคอมพิวเตอร์<br>\n",
    "มหาวิทยาลัยราชภัฏศรีสะเกษ"
   ]
  },
  {
   "cell_type": "code",
   "execution_count": null,
   "metadata": {},
   "outputs": [],
   "source": []
  }
 ],
 "metadata": {
  "kernelspec": {
   "display_name": "Python 3",
   "language": "python",
   "name": "python3"
  },
  "language_info": {
   "codemirror_mode": {
    "name": "ipython",
    "version": 3
   },
   "file_extension": ".py",
   "mimetype": "text/x-python",
   "name": "python",
   "nbconvert_exporter": "python",
   "pygments_lexer": "ipython3",
   "version": "3.9.12"
  }
 },
 "nbformat": 4,
 "nbformat_minor": 5
}
