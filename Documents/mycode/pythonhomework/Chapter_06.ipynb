{
 "cells": [
  {
   "cell_type": "markdown",
   "metadata": {},
   "source": [
    "# แบบฝึกหัดบทที่ 6 นิพจน์ และตัวดำเนินการ"
   ]
  },
  {
   "cell_type": "markdown",
   "metadata": {},
   "source": [
    "<img src=\"./images/chap6_1.png\" width=460px>"
   ]
  },
  {
   "cell_type": "markdown",
   "metadata": {},
   "source": [
    "## 5.1 จงแปลงนิพจน์ทางคณิตศาสตร์ให้เป็นโปรแกรม"
   ]
  },
  {
   "cell_type": "code",
   "execution_count": 4,
   "metadata": {},
   "outputs": [
    {
     "name": "stdout",
     "output_type": "stream",
     "text": [
      "enter your radius6\n",
      "113.04\n"
     ]
    }
   ],
   "source": [
    "#คำตอบ\n",
    "p = 3.14\n",
    "r = int(input('enter your radius'))\n",
    "a = p*(r**2)\n",
    "print(a)\n"
   ]
  },
  {
   "cell_type": "markdown",
   "metadata": {},
   "source": [
    "## 5.2 จงแปลงนิพจน์ทางคณิตศาสตร์ให้เป็นโปรแกรม"
   ]
  },
  {
   "cell_type": "code",
   "execution_count": null,
   "metadata": {},
   "outputs": [],
   "source": [
    "#คำตอบ\n",
    "a = int(input('enter your number a '))\n",
    "b = int(input('enter your number b '))\n",
    "c = (a**2)+(b**2)\n",
    "print(c)\n"
   ]
  },
  {
   "cell_type": "markdown",
   "metadata": {},
   "source": [
    "## 5.3 จงแปลงนิพจน์ทางคณิตศาสตร์ให้เป็นโปรแกรม"
   ]
  },
  {
   "cell_type": "code",
   "execution_count": null,
   "metadata": {},
   "outputs": [],
   "source": [
    "import math\n",
    "a = int(input('enter your number a '))\n",
    "b = int(input('enter your number b '))\n",
    "c = int(input('enter your number c '))\n",
    "y = (math.sqrt((b**2)-(4*a*c)))\n",
    "x = y / (2*a)\n",
    "print (x)\n"
   ]
  },
  {
   "cell_type": "markdown",
   "metadata": {},
   "source": [
    "## 5.4 จงแปลงนิพจน์ทางคณิตศาสตร์ให้เป็นโปรแกรม"
   ]
  },
  {
   "cell_type": "code",
   "execution_count": null,
   "metadata": {},
   "outputs": [],
   "source": [
    "#คำตอบ\n",
    "b = int(input('enter your number b '))\n",
    "c = int(input('enter your number c '))\n",
    "d = int(input('enter your number d '))\n",
    "a = ((b*2)*d)/c\n",
    "print(a)"
   ]
  },
  {
   "cell_type": "markdown",
   "metadata": {},
   "source": [
    "## 5.5 จงแปลงนิพจน์ทางคณิตศาสตร์ให้เป็นโปรแกรม"
   ]
  },
  {
   "cell_type": "code",
   "execution_count": null,
   "metadata": {},
   "outputs": [],
   "source": [
    "# คำตอบ\n",
    "b = int(input('enter your number b '))\n",
    "a = b**2 *(5+2)\n",
    "print(a)\n"
   ]
  },
  {
   "cell_type": "code",
   "execution_count": null,
   "metadata": {},
   "outputs": [],
   "source": []
  }
 ],
 "metadata": {
  "kernelspec": {
   "display_name": "Python 3",
   "language": "python",
   "name": "python3"
  },
  "language_info": {
   "codemirror_mode": {
    "name": "ipython",
    "version": 3
   },
   "file_extension": ".py",
   "mimetype": "text/x-python",
   "name": "python",
   "nbconvert_exporter": "python",
   "pygments_lexer": "ipython3",
   "version": "3.7.4"
  }
 },
 "nbformat": 4,
 "nbformat_minor": 5
}
